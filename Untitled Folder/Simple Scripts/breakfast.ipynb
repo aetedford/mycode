{
 "cells": [
  {
   "cell_type": "code",
   "execution_count": 10,
   "id": "80bea1a4",
   "metadata": {},
   "outputs": [
    {
     "name": "stdout",
     "output_type": "stream",
     "text": [
      "Pick a word: black\n",
      "\n",
      "stack\n",
      "snack\n",
      "flapjack\n"
     ]
    }
   ],
   "source": [
    "#!/usr/bin/python3\n",
    "\n",
    "import requests\n",
    "\n",
    "word = input(\"Pick a word: \")\n",
    "print()\n",
    "\n",
    "URL = \"https://api.datamuse.com/words?ml=breakfast\"\n",
    "\n",
    "parameter = {\"rel_rhy\":word}\n",
    "request = requests.get(URL,parameter)\n",
    "\n",
    "rhyme_json = request.json()\n",
    "for i in rhyme_json[0:3]:\n",
    " print(i['word'])"
   ]
  },
  {
   "cell_type": "code",
   "execution_count": null,
   "id": "57618934",
   "metadata": {},
   "outputs": [],
   "source": []
  },
  {
   "cell_type": "code",
   "execution_count": null,
   "id": "6dc50436",
   "metadata": {},
   "outputs": [],
   "source": []
  }
 ],
 "metadata": {
  "kernelspec": {
   "display_name": "Python 3 (ipykernel)",
   "language": "python",
   "name": "python3"
  },
  "language_info": {
   "codemirror_mode": {
    "name": "ipython",
    "version": 3
   },
   "file_extension": ".py",
   "mimetype": "text/x-python",
   "name": "python",
   "nbconvert_exporter": "python",
   "pygments_lexer": "ipython3",
   "version": "3.10.2"
  }
 },
 "nbformat": 4,
 "nbformat_minor": 5
}
