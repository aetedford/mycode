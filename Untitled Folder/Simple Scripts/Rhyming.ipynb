{
 "cells": [
  {
   "cell_type": "code",
   "execution_count": 1,
   "id": "0dc3f729",
   "metadata": {},
   "outputs": [
    {
     "name": "stdout",
     "output_type": "stream",
     "text": [
      "Pick a word: Wesley\n",
      "\n",
      "expressly\n",
      "leslie\n",
      "presley\n"
     ]
    }
   ],
   "source": [
    "#!/usr/bin/python3\n",
    "\n",
    "import requests\n",
    "\n",
    "word = input(\"Pick a word: \")\n",
    "print()\n",
    "\n",
    "URL = \"https://api.datamuse.com/words\"\n",
    "\n",
    "parameter = {\"rel_rhy\":word}\n",
    "request = requests.get(URL,parameter)\n",
    "\n",
    "rhyme_json = request.json()\n",
    "for i in rhyme_json[0:3]:\n",
    " print(i['word'])"
   ]
  },
  {
   "cell_type": "code",
   "execution_count": null,
   "id": "ac887755",
   "metadata": {},
   "outputs": [],
   "source": []
  },
  {
   "cell_type": "code",
   "execution_count": null,
   "id": "ef37d05b",
   "metadata": {},
   "outputs": [],
   "source": []
  }
 ],
 "metadata": {
  "kernelspec": {
   "display_name": "Python 3 (ipykernel)",
   "language": "python",
   "name": "python3"
  },
  "language_info": {
   "codemirror_mode": {
    "name": "ipython",
    "version": 3
   },
   "file_extension": ".py",
   "mimetype": "text/x-python",
   "name": "python",
   "nbconvert_exporter": "python",
   "pygments_lexer": "ipython3",
   "version": "3.10.2"
  }
 },
 "nbformat": 4,
 "nbformat_minor": 5
}
