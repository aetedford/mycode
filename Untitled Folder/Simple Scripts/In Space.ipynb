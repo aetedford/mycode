{
 "cells": [
  {
   "cell_type": "code",
   "execution_count": 1,
   "id": "cd3cba48",
   "metadata": {},
   "outputs": [
    {
     "name": "stdout",
     "output_type": "stream",
     "text": [
      "dict_keys(['people', 'message', 'number'])\n",
      "\n",
      "\n",
      "People in space: 10\n",
      "People on the ISS: \n",
      "Mark Vande Hei\n",
      "Pyotr Dubrov\n",
      "Anton Shkaplerov\n",
      "Raja Chari\n",
      "Tom Marshburn\n",
      "Kayla Barron\n",
      "Matthias Maurer\n",
      "\n",
      "People on the Shenzhou: \n",
      "Zhai Zhigang\n",
      "Wang Yaping\n",
      "Ye Guangfu\n"
     ]
    }
   ],
   "source": [
    "#!/usr/bin/python3\n",
    "\n",
    "import requests\n",
    "\n",
    "URL= \"http://api.open-notify.org/astros.json\"\n",
    "\n",
    "def main():\n",
    "\n",
    "    resp= requests.get(URL).json()\n",
    "\n",
    "    # print(resp['people'])\n",
    "    print(resp.keys())\n",
    "    print()\n",
    "    print()\n",
    "\n",
    "    total_astro = len(resp.get('people'))\n",
    "    print(f\"People in space: {total_astro}\")\n",
    "    iss_crew = []\n",
    "    shenzhou_crew = []\n",
    "\n",
    "    for person in resp.get('people'):\n",
    "        if person.get('craft') == \"ISS\":\n",
    "            iss_crew.append(person.get('name'))\n",
    "        else:\n",
    "            shenzhou_crew.append(person.get('name'))\n",
    "\n",
    "    print(\"People on the ISS: \")\n",
    "    for person in iss_crew:\n",
    "        print(f\"{person}\")\n",
    "    print()\n",
    "    print(\"People on the Shenzhou: \")\n",
    "    for person in shenzhou_crew:\n",
    "        print(f\"{person}\")\n",
    "\n",
    "main()"
   ]
  },
  {
   "cell_type": "code",
   "execution_count": null,
   "id": "5f65ada0",
   "metadata": {},
   "outputs": [],
   "source": []
  },
  {
   "cell_type": "code",
   "execution_count": null,
   "id": "7f2f2237",
   "metadata": {},
   "outputs": [],
   "source": []
  }
 ],
 "metadata": {
  "kernelspec": {
   "display_name": "Python 3 (ipykernel)",
   "language": "python",
   "name": "python3"
  },
  "language_info": {
   "codemirror_mode": {
    "name": "ipython",
    "version": 3
   },
   "file_extension": ".py",
   "mimetype": "text/x-python",
   "name": "python",
   "nbconvert_exporter": "python",
   "pygments_lexer": "ipython3",
   "version": "3.10.2"
  }
 },
 "nbformat": 4,
 "nbformat_minor": 5
}
