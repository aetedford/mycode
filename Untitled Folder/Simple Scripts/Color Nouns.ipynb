{
 "cells": [
  {
   "cell_type": "code",
   "execution_count": 1,
   "id": "f0379823",
   "metadata": {},
   "outputs": [
    {
     "name": "stdout",
     "output_type": "stream",
     "text": [
      "Pick a color: maroon\n",
      "\n",
      "velvet\n",
      "cloth\n",
      "color\n",
      "shirt\n",
      "communities\n"
     ]
    }
   ],
   "source": [
    "#!/usr/bin/python3\n",
    "\n",
    "import requests\n",
    "\n",
    "word = input(\"Pick a color: \")\n",
    "print()\n",
    "\n",
    "URL = \"https://api.datamuse.com/words\"\n",
    "\n",
    "parameter = {\"rel_jja\":word}\n",
    "request = requests.get(URL,parameter)\n",
    "\n",
    "rhyme_json = request.json()\n",
    "for i in rhyme_json[0:5]:\n",
    " print(i['word'])"
   ]
  },
  {
   "cell_type": "code",
   "execution_count": null,
   "id": "9c4bbb1a",
   "metadata": {},
   "outputs": [],
   "source": []
  },
  {
   "cell_type": "code",
   "execution_count": null,
   "id": "7004648e",
   "metadata": {},
   "outputs": [],
   "source": []
  }
 ],
 "metadata": {
  "kernelspec": {
   "display_name": "Python 3 (ipykernel)",
   "language": "python",
   "name": "python3"
  },
  "language_info": {
   "codemirror_mode": {
    "name": "ipython",
    "version": 3
   },
   "file_extension": ".py",
   "mimetype": "text/x-python",
   "name": "python",
   "nbconvert_exporter": "python",
   "pygments_lexer": "ipython3",
   "version": "3.10.2"
  }
 },
 "nbformat": 4,
 "nbformat_minor": 5
}
