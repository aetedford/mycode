{
 "cells": [
  {
   "cell_type": "code",
   "execution_count": 50,
   "id": "ce11d000",
   "metadata": {},
   "outputs": [
    {
     "name": "stdout",
     "output_type": "stream",
     "text": [
      "What is your name?: Snickers\n",
      "Your age is: 48\n"
     ]
    }
   ],
   "source": [
    "#!/usr/bin/python3\n",
    "\n",
    "import requests\n",
    "\n",
    "\n",
    "name = input(\"What is your name?: \")\n",
    "URL = \"https://api.agify.io/?name=\"+name\n",
    "\n",
    "resp = requests.get(URL)\n",
    "\n",
    "data = resp.json()\n",
    "age = data['age']\n",
    "\n",
    "\n",
    "print(f\"Your age is: {age}\")\n"
   ]
  },
  {
   "cell_type": "raw",
   "id": "98ba26b3",
   "metadata": {},
   "source": []
  },
  {
   "cell_type": "raw",
   "id": "587ed0e2",
   "metadata": {},
   "source": []
  }
 ],
 "metadata": {
  "kernelspec": {
   "display_name": "Python 3 (ipykernel)",
   "language": "python",
   "name": "python3"
  },
  "language_info": {
   "codemirror_mode": {
    "name": "ipython",
    "version": 3
   },
   "file_extension": ".py",
   "mimetype": "text/x-python",
   "name": "python",
   "nbconvert_exporter": "python",
   "pygments_lexer": "ipython3",
   "version": "3.10.2"
  }
 },
 "nbformat": 4,
 "nbformat_minor": 5
}
