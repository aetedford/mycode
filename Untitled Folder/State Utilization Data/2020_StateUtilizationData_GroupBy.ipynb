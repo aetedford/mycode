{
 "cells": [
  {
   "cell_type": "code",
   "execution_count": 1,
   "id": "f7c9078e",
   "metadata": {},
   "outputs": [
    {
     "data": {
      "text/html": [
       "<div>\n",
       "<style scoped>\n",
       "    .dataframe tbody tr th:only-of-type {\n",
       "        vertical-align: middle;\n",
       "    }\n",
       "\n",
       "    .dataframe tbody tr th {\n",
       "        vertical-align: top;\n",
       "    }\n",
       "\n",
       "    .dataframe thead th {\n",
       "        text-align: right;\n",
       "    }\n",
       "</style>\n",
       "<table border=\"1\" class=\"dataframe\">\n",
       "  <thead>\n",
       "    <tr style=\"text-align: right;\">\n",
       "      <th></th>\n",
       "      <th>quarter</th>\n",
       "      <th>total_amount_reimbursed</th>\n",
       "    </tr>\n",
       "  </thead>\n",
       "  <tbody>\n",
       "    <tr>\n",
       "      <th>0</th>\n",
       "      <td>1</td>\n",
       "      <td>$18,782,941,829.04</td>\n",
       "    </tr>\n",
       "    <tr>\n",
       "      <th>1</th>\n",
       "      <td>2</td>\n",
       "      <td>$18,214,634,566.88</td>\n",
       "    </tr>\n",
       "    <tr>\n",
       "      <th>2</th>\n",
       "      <td>3</td>\n",
       "      <td>$19,714,645,455.94</td>\n",
       "    </tr>\n",
       "    <tr>\n",
       "      <th>3</th>\n",
       "      <td>4</td>\n",
       "      <td>$19,821,453,368.58</td>\n",
       "    </tr>\n",
       "  </tbody>\n",
       "</table>\n",
       "</div>"
      ],
      "text/plain": [
       "   quarter  total_amount_reimbursed\n",
       "0        1       $18,782,941,829.04\n",
       "1        2       $18,214,634,566.88\n",
       "2        3       $19,714,645,455.94\n",
       "3        4       $19,821,453,368.58"
      ]
     },
     "execution_count": 1,
     "metadata": {},
     "output_type": "execute_result"
    }
   ],
   "source": [
    "import pandas as pd\n",
    "df = pd.read_csv(r\"C:\\ERICS_STUFF\\StateDrugUtilization\\2020_StateDrugUtilizationData.csv\") #.query(\"state=XX\")  #read the csv file (put 'r' before the path string to address any special characters in the path, such as '\\'). Don't forget to put the file name at the end of the path + \".csv\"\n",
    "\n",
    "# df.sort_values(by=['state'])\n",
    "\n",
    "only_xx = df[(df['state']=='XX') & (df['total_amount_reimbursed'] > 0)]\n",
    "\n",
    "pd.options.display.float_format = '${:,.2f}'.format\n",
    "\n",
    "\n",
    "only_xx.groupby(['quarter'])['total_amount_reimbursed'].sum().reset_index()\n",
    "\n",
    "#display(only_xx)\n"
   ]
  },
  {
   "cell_type": "code",
   "execution_count": 4,
   "id": "492096b8",
   "metadata": {},
   "outputs": [
    {
     "data": {
      "text/plain": [
       "367592319.14"
      ]
     },
     "execution_count": 4,
     "metadata": {},
     "output_type": "execute_result"
    }
   ],
   "source": [
    "df.total_amount_reimbursed.max()"
   ]
  },
  {
   "cell_type": "code",
   "execution_count": null,
   "id": "763c0222",
   "metadata": {},
   "outputs": [],
   "source": []
  }
 ],
 "metadata": {
  "kernelspec": {
   "display_name": "Python 3 (ipykernel)",
   "language": "python",
   "name": "python3"
  },
  "language_info": {
   "codemirror_mode": {
    "name": "ipython",
    "version": 3
   },
   "file_extension": ".py",
   "mimetype": "text/x-python",
   "name": "python",
   "nbconvert_exporter": "python",
   "pygments_lexer": "ipython3",
   "version": "3.10.2"
  }
 },
 "nbformat": 4,
 "nbformat_minor": 5
}
